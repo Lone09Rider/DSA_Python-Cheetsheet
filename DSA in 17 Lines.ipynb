{
 "cells": [
  {
   "cell_type": "code",
   "execution_count": 1,
   "id": "65e6ccd8",
   "metadata": {},
   "outputs": [
    {
     "name": "stdout",
     "output_type": "stream",
     "text": [
      "Hello Friends\n"
     ]
    }
   ],
   "source": [
    "print(\"Hello Friends\")"
   ]
  },
  {
   "cell_type": "markdown",
   "id": "62407245",
   "metadata": {},
   "source": [
    "# <font color=\"Colombiablue\">Linear Search"
   ]
  },
  {
   "cell_type": "code",
   "execution_count": 2,
   "id": "bb83d2e5",
   "metadata": {},
   "outputs": [],
   "source": [
    "def Linear_Search(arr, ele):\n",
    "    l = len(arr)\n",
    "    for i in range(l):\n",
    "        if arr[i] == ele:\n",
    "            print(\"At Position :\", i)"
   ]
  },
  {
   "cell_type": "code",
   "execution_count": 3,
   "id": "67f0402a",
   "metadata": {},
   "outputs": [],
   "source": [
    "arr = [1, 2, 3, 2, 3, 2]\n",
    "ele = 2"
   ]
  },
  {
   "cell_type": "code",
   "execution_count": 4,
   "id": "a8ad0d30",
   "metadata": {},
   "outputs": [
    {
     "name": "stdout",
     "output_type": "stream",
     "text": [
      "At Position : 1\n",
      "At Position : 3\n",
      "At Position : 5\n"
     ]
    }
   ],
   "source": [
    "Linear_Search(arr, ele)"
   ]
  },
  {
   "cell_type": "markdown",
   "id": "b01c551a",
   "metadata": {},
   "source": [
    "# <font color=\"Colombiablue\">Binary Search"
   ]
  },
  {
   "cell_type": "code",
   "execution_count": 5,
   "id": "ff25fcf7",
   "metadata": {},
   "outputs": [],
   "source": [
    "def Binary_Search(arr, ele):\n",
    "    start = arr[0]\n",
    "    end = arr[-1]\n",
    "    while start<=end:\n",
    "        mid = (start+end)//2\n",
    "        if arr[mid] == ele:\n",
    "            return mid\n",
    "        else:\n",
    "            if arr[mid] > ele:\n",
    "                end = mid - 1\n",
    "            else:\n",
    "                start = mid + 1\n",
    "    return -1"
   ]
  },
  {
   "cell_type": "code",
   "execution_count": 6,
   "id": "8ed23fd2",
   "metadata": {},
   "outputs": [],
   "source": [
    "arr = [1, 2, 3]\n",
    "ele = 3"
   ]
  },
  {
   "cell_type": "code",
   "execution_count": 7,
   "id": "7b4a4b58",
   "metadata": {},
   "outputs": [
    {
     "data": {
      "text/plain": [
       "2"
      ]
     },
     "execution_count": 7,
     "metadata": {},
     "output_type": "execute_result"
    }
   ],
   "source": [
    "Binary_Search(arr, ele)"
   ]
  },
  {
   "cell_type": "markdown",
   "id": "2a5c05a3",
   "metadata": {},
   "source": [
    "# <font color=\"Colombiablue\">Bubble Sort"
   ]
  },
  {
   "cell_type": "code",
   "execution_count": 8,
   "id": "acdc6473",
   "metadata": {},
   "outputs": [],
   "source": [
    "def Bubble_Sort(arr):\n",
    "    for i in range(len(arr)-1):\n",
    "        for j in range(len(arr)-i-1):\n",
    "            if arr[j] > arr[j+1]:\n",
    "                arr[j], arr[j+1] = arr[j+1], arr[j]\n",
    "    return -1"
   ]
  },
  {
   "cell_type": "code",
   "execution_count": 9,
   "id": "612fbb31",
   "metadata": {},
   "outputs": [
    {
     "name": "stdout",
     "output_type": "stream",
     "text": [
      "[1, 3, 2, 5, 6, 4]\n",
      "[1, 2, 3, 4, 5, 6]\n"
     ]
    }
   ],
   "source": [
    "arr = [1, 3, 2, 5, 6, 4]\n",
    "print(arr)\n",
    "Bubble_Sort(arr)\n",
    "print(arr)"
   ]
  },
  {
   "cell_type": "markdown",
   "id": "1349b04d",
   "metadata": {},
   "source": [
    "# <font color=\"Colombiablue\">Insertion Sort"
   ]
  },
  {
   "cell_type": "code",
   "execution_count": 10,
   "id": "5c74593c",
   "metadata": {},
   "outputs": [],
   "source": [
    "def Insertion_sort(arr):\n",
    "    l = len(arr)\n",
    "    for i in range(1, l):\n",
    "        key = arr[i]\n",
    "        j = i-1\n",
    "        while j >= 0 and key < arr[j]:\n",
    "            arr[j+1] = arr[j]\n",
    "            j = j-1\n",
    "        arr[j+1] = key"
   ]
  },
  {
   "cell_type": "code",
   "execution_count": 11,
   "id": "117d7772",
   "metadata": {},
   "outputs": [
    {
     "name": "stdout",
     "output_type": "stream",
     "text": [
      "[1, 3, 2, 5, 6, 4]\n",
      "[1, 2, 3, 4, 5, 6]\n"
     ]
    }
   ],
   "source": [
    "arr = [1, 3, 2, 5, 6, 4]\n",
    "print(arr)\n",
    "Insertion_sort(arr)\n",
    "print(arr)"
   ]
  },
  {
   "cell_type": "markdown",
   "id": "56252dc7",
   "metadata": {},
   "source": [
    "# <font color=\"Colombiablue\">Selection Sort"
   ]
  },
  {
   "cell_type": "code",
   "execution_count": 12,
   "id": "5a478f39",
   "metadata": {},
   "outputs": [],
   "source": [
    "def Selection_Sort(arr):\n",
    "    for i in range(len(arr)):\n",
    "        mid = i\n",
    "        for j in range(i+1, len(arr)):\n",
    "            if j < arr[mid]:\n",
    "                mid = j\n",
    "        arr[i], arr[mid] = arr[mid], arr[i]    "
   ]
  },
  {
   "cell_type": "code",
   "execution_count": 13,
   "id": "d83ad9ca",
   "metadata": {},
   "outputs": [
    {
     "name": "stdout",
     "output_type": "stream",
     "text": [
      "[1, 3, 2, 5, 6, 4]\n",
      "[1, 2, 3, 4, 5, 6]\n"
     ]
    }
   ],
   "source": [
    "arr = [1, 3, 2, 5, 6, 4]\n",
    "print(arr)\n",
    "Selection_Sort(arr)\n",
    "print(arr)"
   ]
  },
  {
   "cell_type": "markdown",
   "id": "4cbcfb45",
   "metadata": {},
   "source": [
    "# <font color=\"Colombiablue\">Merge Sort"
   ]
  },
  {
   "cell_type": "code",
   "execution_count": 14,
   "id": "86a6837f",
   "metadata": {},
   "outputs": [],
   "source": [
    "def Merge_Sort(arr):\n",
    "    if len(arr) > 1:\n",
    "        mid = len(arr)//2\n",
    "        left = arr[:mid]\n",
    "        right = arr[mid:]\n",
    "        \n",
    "        Merge_Sort(left)\n",
    "        Merge_Sort(right)\n",
    "        \n",
    "        i = j = k = 0\n",
    "        \n",
    "        while i < len(left) and j < len(right):\n",
    "            if left[i] <= right[j]:\n",
    "                arr[k] = left[i]\n",
    "                i += 1\n",
    "            else:\n",
    "                arr[k] = right[j]\n",
    "                j += 1\n",
    "            k += 1\n",
    "        while i < len(left):\n",
    "            arr[k] = left[i]\n",
    "            i += 1\n",
    "            k += 1\n",
    "\n",
    "        while j < len(right):\n",
    "            arr[k]=right[j]\n",
    "            j += 1\n",
    "            k += 1"
   ]
  },
  {
   "cell_type": "code",
   "execution_count": 15,
   "id": "46f57b1e",
   "metadata": {},
   "outputs": [
    {
     "name": "stdout",
     "output_type": "stream",
     "text": [
      "[1, 3, 2, 5, 6, 4]\n",
      "[1, 2, 3, 4, 5, 6]\n"
     ]
    }
   ],
   "source": [
    "arr = [1, 3, 2, 5, 6, 4]\n",
    "print(arr)\n",
    "Merge_Sort(arr)\n",
    "print(arr)"
   ]
  },
  {
   "cell_type": "markdown",
   "id": "bc8f862d",
   "metadata": {},
   "source": [
    "# <font color=\"Colombiablue\">Quick Sort"
   ]
  },
  {
   "cell_type": "code",
   "execution_count": 16,
   "id": "cf7e9332",
   "metadata": {},
   "outputs": [],
   "source": [
    "def partition(arr, low, high):\n",
    "    i = (low-1)        \n",
    "    pivot = arr[high]    \n",
    " \n",
    "    for j in range(low, high):\n",
    "        if arr[j] <= pivot:\n",
    " \n",
    "            i = i+1\n",
    "            arr[i], arr[j] = arr[j], arr[i]\n",
    " \n",
    "    arr[i+1], arr[high] = arr[high], arr[i+1]\n",
    "    return (i+1)\n",
    " \n",
    "def QuickSort(arr, low, high):\n",
    "    if len(arr) == 1:\n",
    "        return arr\n",
    "    if low < high:\n",
    "        pi = partition(arr, low, high)\n",
    "        QuickSort(arr, low, pi-1)\n",
    "        QuickSort(arr, pi+1, high)"
   ]
  },
  {
   "cell_type": "code",
   "execution_count": 17,
   "id": "4422bd17",
   "metadata": {},
   "outputs": [
    {
     "name": "stdout",
     "output_type": "stream",
     "text": [
      "[1, 3, 2, 5, 6, 4]\n",
      "[1, 2, 3, 4, 5, 6]\n"
     ]
    }
   ],
   "source": [
    "arr = [1, 3, 2, 5, 6, 4]\n",
    "print(arr)\n",
    "QuickSort(arr, 0, len(arr)-1)\n",
    "print(arr)"
   ]
  },
  {
   "cell_type": "code",
   "execution_count": null,
   "id": "599ab581",
   "metadata": {},
   "outputs": [],
   "source": []
  }
 ],
 "metadata": {
  "kernelspec": {
   "display_name": "Python 3 (ipykernel)",
   "language": "python",
   "name": "python3"
  },
  "language_info": {
   "codemirror_mode": {
    "name": "ipython",
    "version": 3
   },
   "file_extension": ".py",
   "mimetype": "text/x-python",
   "name": "python",
   "nbconvert_exporter": "python",
   "pygments_lexer": "ipython3",
   "version": "3.9.7"
  }
 },
 "nbformat": 4,
 "nbformat_minor": 5
}
